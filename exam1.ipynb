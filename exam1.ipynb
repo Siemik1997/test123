{
 "cells": [
  {
   "cell_type": "code",
   "execution_count": null,
   "metadata": {},
   "outputs": [],
   "source": [
    "import numpy as np\n",
    "import pandas as pd\n",
    "import matplotlib.pyplot as plt\n",
    "import seaborn as sns\n",
    "import random\n",
    "import itertools\n",
    "import math\n",
    "\n",
    "palette = itertools.cycle(sns.color_palette())"
   ]
  },
  {
   "cell_type": "markdown",
   "metadata": {},
   "source": [
    "# First test from numerical familiarisation\n",
    "This is a first test from the repetition material that allows you to check your numerical familiarisation with the most common Data Science libraries in Python. The test allows you to get maximally 20 points and is scheduled for 60 minutes.\n",
    "\n",
    "- Start: `19:05`\n",
    "- End: `20:00`\n",
    "- Duration: `50min`\n",
    "- Points numer: `20`\n",
    "\n",
    "You will have additional 5 minutes to upload the solution to e-Portal. The name of the file shall be changed to:\n",
    "\n",
    "\"`{your_index}-test1.ipynb`\" -> `THIS IS CRUCIAL!` : example '111111-test1.ipynb'\n",
    "\n",
    "To avoid problems, in addition `insert the index value below (you will use it in the excercises anyway :) ):`"
   ]
  },
  {
   "cell_type": "code",
   "execution_count": null,
   "metadata": {},
   "outputs": [],
   "source": [
    "your_index = str(random.randint(100000, 999999))\n",
    "print(your_index)"
   ]
  },
  {
   "cell_type": "markdown",
   "metadata": {},
   "source": [
    "If the code does not run in any excercise, it shall obtain 0 points. `Make sure the code runs` then, even with wrong results and then the steps within will be graded. "
   ]
  },
  {
   "cell_type": "markdown",
   "metadata": {},
   "source": [
    "<center><img src=https://i.giphy.com/media/3oeSAz6FqXCKuNFX6o/giphy.webp></center>"
   ]
  },
  {
   "cell_type": "markdown",
   "metadata": {},
   "source": [
    "### Task 1 (5 points)"
   ]
  },
  {
   "cell_type": "markdown",
   "metadata": {},
   "source": [
    "As you are already familiar with Complex systems, we will use this interest in our test to plot something cool. [The Mandelbrot Set](https://en.wikipedia.org/wiki/Mandelbrot_set) (!) is set of complex numbers such that having a function $f_c(z) = z^2 + c$ it does not diverge to $\\infty$ when iterated from z=0. We can translate this definition to:\n",
    "\n",
    "$z_{k+1} = z_k^2 + c, k \\in \\mathbb{N}_+,\\ c \\in \\mathbb{C}$\n",
    "\n",
    "and those values shall remain bounded. We consider values $c\\in \\mathbb{C} : c = x + iy \\wedge x,y\\in \\mathbb{R}$. The bounds for the values are:\n",
    "\n",
    "$- 5 - \\text{your\\_index[4]} < x  < 5 - \\text{your\\_index[3]}$\n",
    "\n",
    "$- 5 + \\text{your\\_index[4]} < y  < 5 + \\text{your\\_index[3]}$\n",
    "\n",
    "- `Create a linespace of x and y values and treat the complex number c as picture coordinates. Assign value of a pixel according to the number of iterations for `$z_{k+1}=z_k^2 + c$` to achieve the threshold, where:` (2 pts)\n",
    "\n",
    "    - $threshold=random.randint(2, 1000)$\n",
    "\n",
    "Number of iterations to be checked can be a number from 10 to 256 -> 256 will be the maximal value\n",
    "\n",
    "Plot the corresponding set as an image, set colorbar and colormap of your choice. How many pixels you want in this range is also your choice. (2 pts)\n",
    " \n",
    "Do the same but find the coolest region by hand, not with random numbers. (1 pt)"
   ]
  },
  {
   "cell_type": "code",
   "execution_count": null,
   "metadata": {},
   "outputs": [
    {
     "data": {
      "text/plain": [
       "(0, 8, 111, 50)"
      ]
     },
     "execution_count": 102,
     "metadata": {},
     "output_type": "execute_result"
    }
   ],
   "source": [
    "N = \n",
    "index4 = \n",
    "index3 = \n",
    "threshold = \n",
    "iterations = \n",
    "\n",
    "x = \n",
    "y = \n",
    "\n",
    "index4, index3, threshold, iterations"
   ]
  },
  {
   "cell_type": "code",
   "execution_count": null,
   "metadata": {},
   "outputs": [],
   "source": []
  },
  {
   "cell_type": "markdown",
   "metadata": {},
   "source": [
    "### Task 2 (5 points)"
   ]
  },
  {
   "cell_type": "markdown",
   "metadata": {},
   "source": [
    "Take the image provided by yourself, or take the one provided by me :) -> MUST BE RGB.\n",
    "\n",
    "- plot the image `(1 pt)`\n",
    "- take only the first channel and plot it with cmap set to hot `(1 pt)`\n",
    "- plot histogram of the most used pixel values for each channel `(1 pt)`\n",
    "- create 4 subplots (2x2) [row, col] - on (0,0) plot image, on the rest plot each of the channels (note that the image must have those channels, it must be rgb image) `(1 pt)`\n",
    "- crop image to be square, replot the above 2x2 subplots, and then: `(1 pt)`\n",
    "    - transpose (0,1)\n",
    "    - interpolate (1,0) with bicubic\n",
    "    - multiply (1,1) by itself and repair it to still be an image\n",
    "    - change the first channel of (0,0) to be the image of (0,1) (the transposed version of the 1st channel plotted on (0,1) before)"
   ]
  },
  {
   "cell_type": "code",
   "execution_count": null,
   "metadata": {},
   "outputs": [],
   "source": [
    "from PIL import Image\n",
    "import requests\n",
    "from io import BytesIO"
   ]
  },
  {
   "cell_type": "code",
   "execution_count": null,
   "metadata": {},
   "outputs": [
    {
     "data": {
      "text/plain": [
       "array([[[ 75,  77, 104, 255],\n",
       "        [ 95,  94, 122, 255],\n",
       "        [103, 102, 130, 255],\n",
       "        ...,\n",
       "        [ 14,  15,  14, 255],\n",
       "        [ 14,  15,  14, 255],\n",
       "        [ 15,  14,  15, 255]],\n",
       "\n",
       "       [[ 97, 100, 139, 255],\n",
       "        [ 96,  97, 133, 255],\n",
       "        [ 99,  97, 136, 255],\n",
       "        ...,\n",
       "        [ 15,  15,  15, 255],\n",
       "        [ 15,  15,  15, 255],\n",
       "        [ 14,  15,  14, 255]],\n",
       "\n",
       "       [[ 96,  97, 137, 255],\n",
       "        [ 97,  96, 135, 255],\n",
       "        [ 91,  88, 128, 255],\n",
       "        ...,\n",
       "        [ 15,  14,  16, 255],\n",
       "        [ 15,  14,  16, 255],\n",
       "        [ 14,  14,  15, 255]],\n",
       "\n",
       "       ...,\n",
       "\n",
       "       [[ 15,  13,  17, 255],\n",
       "        [ 14,  13,  17, 255],\n",
       "        [ 15,  13,  17, 255],\n",
       "        ...,\n",
       "        [ 14,  14,  16, 255],\n",
       "        [ 14,  13,  17, 255],\n",
       "        [ 14,  14,  16, 255]],\n",
       "\n",
       "       [[ 14,  14,  15, 255],\n",
       "        [ 15,  14,  15, 255],\n",
       "        [ 14,  14,  16, 255],\n",
       "        ...,\n",
       "        [ 15,  13,  16, 255],\n",
       "        [ 15,  13,  17, 255],\n",
       "        [ 15,  14,  16, 255]],\n",
       "\n",
       "       [[ 15,  15,  14, 255],\n",
       "        [ 14,  15,  14, 255],\n",
       "        [ 15,  14,  15, 255],\n",
       "        ...,\n",
       "        [ 16,  14,  17, 255],\n",
       "        [ 17,  14,  16, 255],\n",
       "        [ 16,  13,  17, 255]]], dtype=uint8)"
      ]
     },
     "execution_count": 105,
     "metadata": {},
     "output_type": "execute_result"
    }
   ],
   "source": [
    "\n",
    "url = 'https://static.wikia.nocookie.net/non-aliencreatures/images/6/65/DarthSidious.png/revision/latest/scale-to-width-down/250?cb=20191122015622'\n",
    "response = requests.get(url)\n",
    "img = np.array(Image.open(BytesIO(response.content)))\n",
    "img"
   ]
  },
  {
   "cell_type": "code",
   "execution_count": null,
   "metadata": {},
   "outputs": [],
   "source": []
  },
  {
   "cell_type": "code",
   "execution_count": null,
   "metadata": {},
   "outputs": [],
   "source": []
  },
  {
   "cell_type": "code",
   "execution_count": null,
   "metadata": {},
   "outputs": [],
   "source": []
  },
  {
   "cell_type": "code",
   "execution_count": null,
   "metadata": {},
   "outputs": [],
   "source": []
  },
  {
   "cell_type": "code",
   "execution_count": null,
   "metadata": {},
   "outputs": [],
   "source": []
  },
  {
   "cell_type": "markdown",
   "metadata": {},
   "source": [
    "### Task 3 (10 points)"
   ]
  },
  {
   "cell_type": "markdown",
   "metadata": {},
   "source": [
    "Read the `ElectricityByUtility.csv` dataframe that has the information from [California database](https://data.ca.gov/) about various types of utilities that provide the electricity in California. [More info](http://www.ecdms.energy.ca.gov/Default.aspx). All Usage Expressed in Millions of kWh (GWh).\n",
    "\n",
    "- Plot the change of the average total usage and maximum total usage of `Utility Type` in years. Put it on the same plot. For each `Utility Type`, let the average and maximum be denoted by the same color but different dashed type. `(3 pts)`\n",
    "- For three `Utility Names` with the highest average `Total usage` over past `10 years` bar plot the average and variance for each consumption sector (i.e., `Ag & Water Pump`, `Commercial Building`, ..., etc). Use [the pivot table](https://pandas.pydata.org/pandas-docs/stable/reference/api/pandas.pivot_table.html). `(4 pts)`\n",
    "- Plot the usage of each consumption sector (i.e., `Ag & Water Pump`, `Commercial Building`, ..., etc) grouped by years `(3 pts)`"
   ]
  },
  {
   "cell_type": "code",
   "execution_count": null,
   "metadata": {},
   "outputs": [],
   "source": [
    "df = "
   ]
  },
  {
   "cell_type": "markdown",
   "metadata": {},
   "source": [
    "a)"
   ]
  },
  {
   "cell_type": "code",
   "execution_count": null,
   "metadata": {},
   "outputs": [],
   "source": []
  },
  {
   "cell_type": "code",
   "execution_count": null,
   "metadata": {},
   "outputs": [],
   "source": []
  },
  {
   "cell_type": "markdown",
   "metadata": {},
   "source": [
    "b)"
   ]
  },
  {
   "cell_type": "code",
   "execution_count": null,
   "metadata": {},
   "outputs": [],
   "source": []
  },
  {
   "cell_type": "code",
   "execution_count": null,
   "metadata": {},
   "outputs": [],
   "source": []
  },
  {
   "cell_type": "code",
   "execution_count": null,
   "metadata": {},
   "outputs": [],
   "source": []
  },
  {
   "cell_type": "code",
   "execution_count": null,
   "metadata": {},
   "outputs": [],
   "source": []
  },
  {
   "cell_type": "markdown",
   "metadata": {},
   "source": [
    "c)"
   ]
  },
  {
   "cell_type": "code",
   "execution_count": null,
   "metadata": {},
   "outputs": [],
   "source": []
  },
  {
   "cell_type": "code",
   "execution_count": null,
   "metadata": {},
   "outputs": [],
   "source": []
  }
 ],
 "metadata": {
  "kernelspec": {
   "display_name": "Python 3.9.12 64-bit",
   "language": "python",
   "name": "python3"
  },
  "language_info": {
   "codemirror_mode": {
    "name": "ipython",
    "version": 3
   },
   "file_extension": ".py",
   "mimetype": "text/x-python",
   "name": "python",
   "nbconvert_exporter": "python",
   "pygments_lexer": "ipython3",
   "version": "3.9.12"
  },
  "orig_nbformat": 4,
  "vscode": {
   "interpreter": {
    "hash": "aee8b7b246df8f9039afb4144a1f6fd8d2ca17a180786b69acc140d282b71a49"
   }
  }
 },
 "nbformat": 4,
 "nbformat_minor": 2
}
